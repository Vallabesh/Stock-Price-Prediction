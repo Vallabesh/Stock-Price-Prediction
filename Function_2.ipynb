{
 "cells": [
  {
   "cell_type": "code",
   "execution_count": 5,
   "metadata": {},
   "outputs": [],
   "source": [
    "def Stockprediction(a):\n",
    "    import numpy as np\n",
    "    import pandas as pd \n",
    "    import matplotlib.pyplot as plt\n",
    "    import seaborn as sns\n",
    "    import plotly.express as px\n",
    "    import plotly\n",
    "    import itertools\n",
    "    import plotly.io as pio\n",
    "    pio.renderers\n",
    "    from tensorflow.keras.optimizers import Adam,RMSprop,SGD\n",
    "    from tensorflow.keras.wrappers.scikit_learn import KerasClassifier\n",
    "    from tensorflow.keras.wrappers.scikit_learn import KerasRegressor\n",
    "    from sklearn.model_selection import GridSearchCV\n",
    "    import tensorflow as tf\n",
    "    from tensorflow.keras.models import Sequential\n",
    "    from tensorflow.keras.layers import Dense\n",
    "    from tensorflow.keras.layers import LSTM\n",
    "    from sklearn.preprocessing import MinMaxScaler\n",
    "    from keras.layers import Dense, LSTM\n",
    "    from fbprophet.diagnostics import cross_validation\n",
    "    from fbprophet.diagnostics import performance_metrics\n",
    "    from fbprophet import Prophet\n",
    "    from sklearn.metrics import mean_squared_error\n",
    "    from sklearn.externals import joblib\n",
    "    import pickle\n",
    "    data = pd.read_csv(\"stock prices.csv\")\n",
    "    \n",
    "    \n",
    "    \n",
    "    def loaddict():\n",
    "        f = open('dict3.txt','r')\n",
    "        bestparams =f.read()\n",
    "        f.close()\n",
    "        return eval(bestparams)\n",
    "\n",
    "    stockparams = loaddict()\n",
    "    \n",
    "    X_Train_Fbp = data[data['date'] < '2017-01-03']\n",
    "    X_Test_Fbp = data[data['date'] > '2016-12-30']\n",
    "    X_Train_Fbp = X_Train_Fbp.drop(['open','high', 'low' ,'volume'], axis=1)\n",
    "    X_Train_Fbp.rename(columns={'date': 'ds', 'close': 'y'}, inplace=True)\n",
    "    predi = []\n",
    "    stocktrain = X_Train_Fbp[(X_Train_Fbp['symbol'] == a)]\n",
    "    stocktest = X_Test_Fbp[(X_Test_Fbp['symbol'] == a)]\n",
    "    model = joblib.load(a+\".joblib\")\n",
    "    stockdf = model.make_future_dataframe(periods=251)\n",
    "    stockprediction = model.predict(stockdf)\n",
    "    predi.extend(stockprediction.iloc[756:1007].yhat.tolist())\n",
    "    actual = stocktest['close'].tolist()\n",
    "    MSE_FB = mean_squared_error(actual,predi)\n",
    "    \n",
    "    \n",
    "    return MSE_FB\n",
    "    \n",
    "    \n",
    "    \n",
    "   \n"
   ]
  },
  {
   "cell_type": "code",
   "execution_count": 6,
   "metadata": {},
   "outputs": [],
   "source": [
    "MSE = Stockprediction('AAL')"
   ]
  },
  {
   "cell_type": "code",
   "execution_count": 7,
   "metadata": {},
   "outputs": [
    {
     "name": "stdout",
     "output_type": "stream",
     "text": [
      "76.72636226423968\n"
     ]
    }
   ],
   "source": [
    "print(MSE)"
   ]
  },
  {
   "cell_type": "code",
   "execution_count": null,
   "metadata": {},
   "outputs": [],
   "source": []
  }
 ],
 "metadata": {
  "kernelspec": {
   "display_name": "Python 3",
   "language": "python",
   "name": "python3"
  },
  "language_info": {
   "codemirror_mode": {
    "name": "ipython",
    "version": 3
   },
   "file_extension": ".py",
   "mimetype": "text/x-python",
   "name": "python",
   "nbconvert_exporter": "python",
   "pygments_lexer": "ipython3",
   "version": "3.8.5"
  }
 },
 "nbformat": 4,
 "nbformat_minor": 4
}
